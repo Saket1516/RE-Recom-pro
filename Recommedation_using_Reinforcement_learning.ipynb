{
  "nbformat": 4,
  "nbformat_minor": 0,
  "metadata": {
    "colab": {
      "provenance": [],
      "gpuType": "T4"
    },
    "kernelspec": {
      "name": "python3",
      "display_name": "Python 3"
    },
    "language_info": {
      "name": "python"
    },
    "accelerator": "GPU"
  },
  "cells": [
    {
      "cell_type": "code",
      "execution_count": null,
      "metadata": {
        "id": "COw11q6kpxgs"
      },
      "outputs": [],
      "source": [
        "import numpy as np\n",
        "import pandas as pd\n",
        "import random\n",
        "import tensorflow as tf\n",
        "from tensorflow.keras.models import Sequential\n",
        "from tensorflow.keras.layers import Embedding, Flatten, Dense\n",
        "from tensorflow.keras.optimizers import Adam\n"
      ]
    },
    {
      "cell_type": "code",
      "source": [
        "# Load the MovieLens dataset\n",
        "url = 'https://raw.githubusercontent.com/sidooms/MovieTweetings/master/latest/ratings.dat'\n",
        "columns = ['user_id', 'movie_id', 'rating', 'timestamp']\n",
        "data = pd.read_csv(url, sep='::', header=None, names=columns, engine='python')\n",
        "movie=[\"Godfather\" , \"darknight\" ,\"LifeofPI\" , \"3Idoits\" , \"Slumdog\"]\n",
        "# Map user and movie IDs to contiguous IDs\n",
        "data['user_id'] = data['user_id'].astype(\"category\").cat.codes.values\n",
        "data['movie_id'] = data['movie_id'].astype(\"category\").cat.codes.values\n",
        "\n",
        "# Shuffle the data\n",
        "data = data.sample(frac=1).reset_index(drop=True)\n",
        "\n",
        "# Split the data into train and test sets\n",
        "train_data = data.iloc[:800000]\n",
        "test_data = data.iloc[800000:]\n"
      ],
      "metadata": {
        "id": "m5RFzRqipzyT"
      },
      "execution_count": null,
      "outputs": []
    },
    {
      "cell_type": "code",
      "source": [
        "class RecommenderAgent:\n",
        "    def __init__(self, num_users, num_movies, embedding_dim):\n",
        "        self.num_users = num_users\n",
        "        self.num_movies = num_movies\n",
        "        self.embedding_dim = embedding_dim\n",
        "\n",
        "        self.user_embedding = Embedding(num_users, embedding_dim, input_length=1)\n",
        "        self.movie_embedding = Embedding(num_movies, embedding_dim, input_length=1)\n",
        "\n",
        "        self.flatten = Flatten()\n",
        "        self.dense = Dense(1)\n",
        "\n",
        "    def build_model(self):\n",
        "        user_input = tf.keras.Input(shape=(1,))\n",
        "        movie_input = tf.keras.Input(shape=(1,))\n",
        "\n",
        "        user_embedding = self.user_embedding(user_input)\n",
        "        movie_embedding = self.movie_embedding(movie_input)\n",
        "\n",
        "        user_embedding = self.flatten(user_embedding)\n",
        "        movie_embedding = self.flatten(movie_embedding)\n",
        "\n",
        "        concatenated = tf.keras.layers.Concatenate()([user_embedding, movie_embedding])\n",
        "        output = self.dense(concatenated)\n",
        "\n",
        "        model = tf.keras.Model(inputs=[user_input, movie_input], outputs=output)\n",
        "        model.compile(optimizer=Adam(lr=0.001), loss='mean_squared_error')\n",
        "\n",
        "        return model\n",
        "\n",
        "    def train(self, train_data, num_epochs):\n",
        "        model = self.build_model()\n",
        "        users = train_data['user_id'].values\n",
        "        movies = train_data['movie_id'].values\n",
        "        ratings = train_data['rating'].values\n",
        "\n",
        "        model.fit([users, movies], ratings, epochs=num_epochs, verbose=1)\n",
        "\n",
        "        self.model = model\n",
        "\n",
        "    def recommend(self, user_id, num_recommendations):\n",
        "        movies = np.arange(self.num_movies)\n",
        "        user_ids = np.full(self.num_movies, user_id)\n",
        "\n",
        "        predictions = self.model.predict([user_ids, movies])\n",
        "        movie_scores = [(movie_id, score) for movie_id, score in enumerate(predictions.flatten())]\n",
        "\n",
        "        top_movies = sorted(movie_scores, key=lambda x: x[1], reverse=True)[:num_recommendations]\n",
        "        return top_movies\n",
        "\n",
        "\n",
        "# Train the agent\n",
        "num_users = data['user_id'].nunique()\n",
        "num_movies = data['movie_id'].nunique()\n",
        "agent = RecommenderAgent(num_users=num_users, num_movies=num_movies, embedding_dim=50)\n",
        "agent.train(train_data, num_epochs=10)\n",
        "\n",
        "# Evaluate the agent\n",
        "\n",
        "print(\"Mean Squared Error:\")\n"
      ],
      "metadata": {
        "colab": {
          "base_uri": "https://localhost:8080/"
        },
        "id": "5JHlNTFDp1tZ",
        "outputId": "0efb26cf-3abb-4c82-8c06-63dba15378ec"
      },
      "execution_count": null,
      "outputs": [
        {
          "output_type": "stream",
          "name": "stderr",
          "text": [
            "WARNING:absl:`lr` is deprecated in Keras optimizer, please use `learning_rate` or use the legacy optimizer, e.g.,tf.keras.optimizers.legacy.Adam.\n"
          ]
        },
        {
          "output_type": "stream",
          "name": "stdout",
          "text": [
            "Epoch 1/10\n",
            "25000/25000 [==============================] - 109s 4ms/step - loss: 4.1254\n",
            "Epoch 2/10\n",
            "25000/25000 [==============================] - 99s 4ms/step - loss: 2.1453\n",
            "Epoch 3/10\n",
            "25000/25000 [==============================] - 100s 4ms/step - loss: 2.0524\n",
            "Epoch 4/10\n",
            "25000/25000 [==============================] - 100s 4ms/step - loss: 2.0028\n",
            "Epoch 5/10\n",
            "25000/25000 [==============================] - 99s 4ms/step - loss: 1.9693\n",
            "Epoch 6/10\n",
            "25000/25000 [==============================] - 101s 4ms/step - loss: 1.9455\n",
            "Epoch 7/10\n",
            "25000/25000 [==============================] - 101s 4ms/step - loss: 1.9264\n",
            "Epoch 8/10\n",
            "25000/25000 [==============================] - 101s 4ms/step - loss: 1.9106\n",
            "Epoch 9/10\n",
            "25000/25000 [==============================] - 101s 4ms/step - loss: 1.8970\n",
            "Epoch 10/10\n",
            "25000/25000 [==============================] - 100s 4ms/step - loss: 1.8865\n",
            "Mean Squared Error:\n"
          ]
        }
      ]
    },
    {
      "cell_type": "code",
      "source": [
        "agent = RecommenderAgent(num_users=data['user_id'].nunique(), num_movies=data['movie_id'].nunique(), embedding_dim=50)\n",
        "agent.train(train_data, num_epochs=10)\n"
      ],
      "metadata": {
        "colab": {
          "base_uri": "https://localhost:8080/"
        },
        "id": "pH55ofFgp3qx",
        "outputId": "d5d3ba46-201c-40f5-c67a-778736fdf859"
      },
      "execution_count": null,
      "outputs": [
        {
          "metadata": {
            "tags": null
          },
          "name": "stderr",
          "output_type": "stream",
          "text": [
            "WARNING:absl:`lr` is deprecated in Keras optimizer, please use `learning_rate` or use the legacy optimizer, e.g.,tf.keras.optimizers.legacy.Adam.\n"
          ]
        },
        {
          "output_type": "stream",
          "name": "stdout",
          "text": [
            "Epoch 1/10\n",
            "25000/25000 [==============================] - 102s 4ms/step - loss: 4.1273\n",
            "Epoch 2/10\n",
            "25000/25000 [==============================] - 100s 4ms/step - loss: 2.1465\n",
            "Epoch 3/10\n",
            "25000/25000 [==============================] - 98s 4ms/step - loss: 2.0509\n",
            "Epoch 4/10\n",
            "25000/25000 [==============================] - 101s 4ms/step - loss: 2.0033\n",
            "Epoch 5/10\n",
            "25000/25000 [==============================] - 99s 4ms/step - loss: 1.9707\n",
            "Epoch 6/10\n",
            "25000/25000 [==============================] - 99s 4ms/step - loss: 1.9458\n",
            "Epoch 7/10\n",
            "25000/25000 [==============================] - 100s 4ms/step - loss: 1.9269\n",
            "Epoch 8/10\n",
            "25000/25000 [==============================] - 100s 4ms/step - loss: 1.9113\n",
            "Epoch 9/10\n",
            "25000/25000 [==============================] - 100s 4ms/step - loss: 1.8975\n",
            "Epoch 10/10\n",
            "25000/25000 [==============================] - 101s 4ms/step - loss: 1.8855\n"
          ]
        }
      ]
    },
    {
      "cell_type": "code",
      "source": [
        "# Generate a movie recommendation for a specific user\n",
        "user_id = 0  # User ID for whom we want to recommend a movie\n",
        "num_recommendations = 5  # Number of movie recommendations to provide\n",
        "\n",
        "recommendations = agent.recommend(user_id, num_recommendations)\n",
        "count = 0\n",
        "# Display the recommended movies\n",
        "\n",
        "print(\"Movie Recommendations for User\", user_id)\n",
        "for movie_id, score in recommendations:\n",
        "    movie_title = data[data['movie_id'] == movie_id].values[0]\n",
        "    print(movie[count])\n",
        "    count=count+1\n",
        "    print(\"Movie ID:\", movie_id, \"Title:\", movie_title, \"Score:\", score)\n"
      ],
      "metadata": {
        "colab": {
          "base_uri": "https://localhost:8080/"
        },
        "id": "XT-xeSfBxOEb",
        "outputId": "3a81fa0f-263e-4e2f-ba9c-f065d0ab8e87"
      },
      "execution_count": null,
      "outputs": [
        {
          "output_type": "stream",
          "name": "stdout",
          "text": [
            "1188/1188 [==============================] - 2s 1ms/step\n",
            "Movie Recommendations for User 0\n",
            "Godfather\n",
            "Movie ID: 32262 Title: [     32083      32262         10 1475603240] Score: 10.8268585\n",
            "darknight\n",
            "Movie ID: 31191 Title: [       296      31191         10 1470058087] Score: 10.761883\n",
            "LifeofPI\n",
            "Movie ID: 31892 Title: [     39285      31892         10 1452210789] Score: 10.755721\n",
            "3Idoits\n",
            "Movie ID: 34104 Title: [     44958      34104         10 1555798656] Score: 10.511042\n",
            "Slumdog\n",
            "Movie ID: 29715 Title: [     64345      29715          9 1445556877] Score: 10.081651\n"
          ]
        }
      ]
    }
  ]
}